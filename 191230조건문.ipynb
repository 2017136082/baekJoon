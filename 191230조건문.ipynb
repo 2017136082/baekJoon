{
 "cells": [
  {
   "cell_type": "markdown",
   "metadata": {},
   "source": [
    "# if문"
   ]
  },
  {
   "cell_type": "markdown",
   "metadata": {},
   "source": [
    "## 2753 윤년\n",
    "\n",
    "### 연도가 주어졌을 때, 윤년이면 1, 아니면 0을 출력하는 프로그램을 작성하시오.\n",
    "\n",
    "### 윤년은 연도가 4의 배수이면서, 100의 배수가 아닐 때 또는 400의 배수일 때 이다.\n",
    "\n",
    "### 예를들어, 2012년은 4의 배수라서 윤년이지만, 1900년은 4의 배수이지만, 100의 배수이기 때문에 윤년이 아니다.\n",
    "\n",
    "### 하지만, 2000년은 400의 배수이기 때문에 윤년이다.\n",
    "\n",
    "#### 입력 : 첫째 줄에 연도가 주어진다. 연도는 1보다 크거나 같고, 4000보다 작거나 같은 자연수이다.\n",
    "\n",
    "#### 출력 : 첫째 줄에 윤년이면 1, 아니면 0을 출력한다."
   ]
  },
  {
   "cell_type": "code",
   "execution_count": 2,
   "metadata": {},
   "outputs": [
    {
     "name": "stdout",
     "output_type": "stream",
     "text": [
      "2000\n",
      "1\n"
     ]
    }
   ],
   "source": [
    "userinput = int(input())\n",
    "\n",
    "if userinput % 4 == 0:\n",
    "    if userinput % 100 == 0:        \n",
    "        if userinput % 400 == 0:\n",
    "            print(1)\n",
    "        else :\n",
    "            print(0)\n",
    "    else:\n",
    "        print(1)\n",
    "else :\n",
    "    print(0)"
   ]
  },
  {
   "cell_type": "markdown",
   "metadata": {},
   "source": [
    "## 2884 알람시계\n",
    "\n",
    "### 바로 \"45분 일찍 알람 맞추기\"이다.\n",
    "### 이 방법은 단순하다. 원래 맞춰져있는 알람을 45분 앞서는 시간으로 바꾸는 것이다. 어차피 알람 소리를 들으면, 알람을 끄고 조금 더 잘 것이기 때문이다. 이 방법을 사용하면, 매일 아침 더 잤다는 기분을 느낄 수 있고, 학교도 지각하지 않게 된다.\n",
    "\n",
    "### 현재 상근이가 맞춰논 알람 시각이 주어졌을 때, 창영이의 방법을 사용한다면, 이를 언제로 고쳐야 하는지 구하는 프로그램을 작성하시오.\n",
    "\n",
    "#### 입력 : 첫째 줄에 두 정수 H와 M이 주어진다. (0 ≤ H ≤ 23, 0 ≤ M ≤ 59) 그리고 이것은 현재 상근이가 맞춰놓은 알람 시간 H시 M분을 의미한다. 입력 시간은 24시간 표현을 사용한다. 24시간 표현에서 하루의 시작은 0:0(자정)이고, 끝은 23:59(다음날 자정 1분 전)이다. 시간을 나타낼 때, 불필요한 0은 사용하지 않는다. \n",
    "\n",
    "#### 출력 : 첫째 줄에 상근이가 창영이의 방법을 사용할 때, 맞춰야 하는 알람 시간을 출력한다. (입력과 같은 형태로 출력하면 된다.)"
   ]
  },
  {
   "cell_type": "code",
   "execution_count": 13,
   "metadata": {},
   "outputs": [
    {
     "name": "stdout",
     "output_type": "stream",
     "text": [
      "00 30\n",
      "23 45\n"
     ]
    }
   ],
   "source": [
    "userinput = input()\n",
    "\n",
    "time = userinput.split(' ')\n",
    "ans = int(time[1]) - 45\n",
    "\n",
    "if ans >= 0 :\n",
    "    print (time[0] + ' ' + str(ans))\n",
    "else :\n",
    "    h = int(time[0]) - 1\n",
    "    m = int(time[1]) + 15\n",
    "    \n",
    "    if h < 0 :\n",
    "        h = 24 + h\n",
    "    print (str(h) + ' ' + str(m))\n",
    "    "
   ]
  },
  {
   "cell_type": "markdown",
   "metadata": {},
   "source": [
    "## 10817 세 수\n",
    "### 세 정수 A, B, C가 주어진다. 이때, 두 번째로 큰 정수를 출력하는 프로그램을 작성하시오.\n",
    "#### 입력 : 첫째 줄에 세 정수 A, B, C가 공백으로 구분되어 주어진다. (1 ≤ A, B, C ≤ 100)\n",
    "#### 출력 : 두 번째로 큰 정수를 출력한다."
   ]
  },
  {
   "cell_type": "code",
   "execution_count": 1,
   "metadata": {},
   "outputs": [
    {
     "name": "stdout",
     "output_type": "stream",
     "text": [
      "10 20 30\n",
      "20\n"
     ]
    }
   ],
   "source": [
    "numlist = [int(x) for x in input().split()]\n",
    "#1. input함수를 통해 한 줄을 입력받는다.\n",
    "#2. split함수를 통해 문자열을 분리한다.\n",
    "#3. 문자열을 정수형으로 바꾼 뒤 numlist에 저장한다.\n",
    "numlist = sorted(numlist, reverse = True)\n",
    "\n",
    "print(numlist[1])"
   ]
  }
 ],
 "metadata": {
  "kernelspec": {
   "display_name": "Python 3",
   "language": "python",
   "name": "python3"
  },
  "language_info": {
   "codemirror_mode": {
    "name": "ipython",
    "version": 3
   },
   "file_extension": ".py",
   "mimetype": "text/x-python",
   "name": "python",
   "nbconvert_exporter": "python",
   "pygments_lexer": "ipython3",
   "version": "3.7.4"
  }
 },
 "nbformat": 4,
 "nbformat_minor": 2
}
